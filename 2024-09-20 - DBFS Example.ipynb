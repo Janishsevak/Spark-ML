{
 "cells": [
  {
   "cell_type": "markdown",
   "metadata": {
    "application/vnd.databricks.v1+cell": {
     "cellMetadata": {},
     "inputWidgets": {},
     "nuid": "96816ed7-b08a-4ca3-abb9-f99880c3535d",
     "showTitle": false,
     "title": ""
    }
   },
   "source": [
    "\n",
    "## Overview\n",
    "\n",
    "This notebook will show you how to create and query a table or DataFrame that you uploaded to DBFS. [DBFS](https://docs.databricks.com/user-guide/dbfs-databricks-file-system.html) is a Databricks File System that allows you to store data for querying inside of Databricks. This notebook assumes that you have a file already inside of DBFS that you would like to read from.\n",
    "\n",
    "This notebook is written in **Python** so the default cell type is Python. However, you can use different languages by using the `%LANGUAGE` syntax. Python, Scala, SQL, and R are all supported."
   ]
  },
  {
   "cell_type": "code",
   "execution_count": 0,
   "metadata": {
    "application/vnd.databricks.v1+cell": {
     "cellMetadata": {
      "byteLimit": 2048000,
      "rowLimit": 10000
     },
     "inputWidgets": {},
     "nuid": "6482be4c-f067-47c9-b0ac-35c938b94601",
     "showTitle": false,
     "title": ""
    }
   },
   "outputs": [
    {
     "output_type": "stream",
     "name": "stdout",
     "output_type": "stream",
     "text": [
      "+----------+----+------+------+---+------+----+\n|total_bill| tip|   sex|smoker|day|  time|size|\n+----------+----+------+------+---+------+----+\n|     16.99|1.01|Female|    No|Sun|Dinner|   2|\n|     10.34|1.66|  Male|    No|Sun|Dinner|   3|\n|     21.01| 3.5|  Male|    No|Sun|Dinner|   3|\n|     23.68|3.31|  Male|    No|Sun|Dinner|   2|\n|     24.59|3.61|Female|    No|Sun|Dinner|   4|\n|     25.29|4.71|  Male|    No|Sun|Dinner|   4|\n|      8.77| 2.0|  Male|    No|Sun|Dinner|   2|\n|     26.88|3.12|  Male|    No|Sun|Dinner|   4|\n|     15.04|1.96|  Male|    No|Sun|Dinner|   2|\n|     14.78|3.23|  Male|    No|Sun|Dinner|   2|\n|     10.27|1.71|  Male|    No|Sun|Dinner|   2|\n|     35.26| 5.0|Female|    No|Sun|Dinner|   4|\n|     15.42|1.57|  Male|    No|Sun|Dinner|   2|\n|     18.43| 3.0|  Male|    No|Sun|Dinner|   4|\n|     14.83|3.02|Female|    No|Sun|Dinner|   2|\n|     21.58|3.92|  Male|    No|Sun|Dinner|   2|\n|     10.33|1.67|Female|    No|Sun|Dinner|   3|\n|     16.29|3.71|  Male|    No|Sun|Dinner|   3|\n|     16.97| 3.5|Female|    No|Sun|Dinner|   3|\n|     20.65|3.35|  Male|    No|Sat|Dinner|   3|\n+----------+----+------+------+---+------+----+\nonly showing top 20 rows\n\n"
     ]
    }
   ],
   "source": [
    "# File location and type\n",
    "file_location = \"/FileStore/tables/tips.csv\"\n",
    "file_type = \"csv\"\n",
    "\n",
    "# CSV options\n",
    "infer_schema = \"false\"\n",
    "first_row_is_header = \"false\"\n",
    "delimiter = \",\"\n",
    "\n",
    "# The applied options are for CSV files. For other file types, these will be ignored.\n",
    "df = spark.read.csv(file_location,header=True,inferSchema=True)\n",
    "df.show()"
   ]
  },
  {
   "cell_type": "code",
   "execution_count": 0,
   "metadata": {
    "application/vnd.databricks.v1+cell": {
     "cellMetadata": {
      "byteLimit": 2048000,
      "rowLimit": 10000
     },
     "inputWidgets": {},
     "nuid": "041c6368-7864-49f3-a956-de13fe26920e",
     "showTitle": false,
     "title": ""
    }
   },
   "outputs": [
    {
     "output_type": "stream",
     "name": "stdout",
     "output_type": "stream",
     "text": [
      "Out[3]: ['total_bill', 'tip', 'sex', 'smoker', 'day', 'time', 'size']"
     ]
    }
   ],
   "source": [
    "df.columns"
   ]
  },
  {
   "cell_type": "code",
   "execution_count": 0,
   "metadata": {
    "application/vnd.databricks.v1+cell": {
     "cellMetadata": {
      "byteLimit": 2048000,
      "rowLimit": 10000
     },
     "inputWidgets": {},
     "nuid": "341700fe-14a3-4bae-be0e-3296aa8ceb22",
     "showTitle": false,
     "title": ""
    }
   },
   "outputs": [],
   "source": [
    "from pyspark.ml.feature import StringIndexer"
   ]
  },
  {
   "cell_type": "code",
   "execution_count": 0,
   "metadata": {
    "application/vnd.databricks.v1+cell": {
     "cellMetadata": {
      "byteLimit": 2048000,
      "rowLimit": 10000
     },
     "inputWidgets": {},
     "nuid": "98ef1c24-cf28-4997-be14-79a2b545ffde",
     "showTitle": false,
     "title": ""
    }
   },
   "outputs": [
    {
     "output_type": "stream",
     "name": "stdout",
     "output_type": "stream",
     "text": [
      "+----------+----+------+------+---+------+----+---------+\n|total_bill| tip|   sex|smoker|day|  time|size|sex_index|\n+----------+----+------+------+---+------+----+---------+\n|     16.99|1.01|Female|    No|Sun|Dinner|   2|      1.0|\n|     10.34|1.66|  Male|    No|Sun|Dinner|   3|      0.0|\n|     21.01| 3.5|  Male|    No|Sun|Dinner|   3|      0.0|\n|     23.68|3.31|  Male|    No|Sun|Dinner|   2|      0.0|\n|     24.59|3.61|Female|    No|Sun|Dinner|   4|      1.0|\n|     25.29|4.71|  Male|    No|Sun|Dinner|   4|      0.0|\n|      8.77| 2.0|  Male|    No|Sun|Dinner|   2|      0.0|\n|     26.88|3.12|  Male|    No|Sun|Dinner|   4|      0.0|\n|     15.04|1.96|  Male|    No|Sun|Dinner|   2|      0.0|\n|     14.78|3.23|  Male|    No|Sun|Dinner|   2|      0.0|\n|     10.27|1.71|  Male|    No|Sun|Dinner|   2|      0.0|\n|     35.26| 5.0|Female|    No|Sun|Dinner|   4|      1.0|\n|     15.42|1.57|  Male|    No|Sun|Dinner|   2|      0.0|\n|     18.43| 3.0|  Male|    No|Sun|Dinner|   4|      0.0|\n|     14.83|3.02|Female|    No|Sun|Dinner|   2|      1.0|\n|     21.58|3.92|  Male|    No|Sun|Dinner|   2|      0.0|\n|     10.33|1.67|Female|    No|Sun|Dinner|   3|      1.0|\n|     16.29|3.71|  Male|    No|Sun|Dinner|   3|      0.0|\n|     16.97| 3.5|Female|    No|Sun|Dinner|   3|      1.0|\n|     20.65|3.35|  Male|    No|Sat|Dinner|   3|      0.0|\n+----------+----+------+------+---+------+----+---------+\nonly showing top 20 rows\n\n"
     ]
    }
   ],
   "source": [
    "indexer = StringIndexer(inputCol=\"sex\",outputCol=\"sex_index\")\n",
    "df_r = indexer.fit(df).transform(df) \n",
    "df_r.show()"
   ]
  },
  {
   "cell_type": "code",
   "execution_count": 0,
   "metadata": {
    "application/vnd.databricks.v1+cell": {
     "cellMetadata": {
      "byteLimit": 2048000,
      "rowLimit": 10000
     },
     "inputWidgets": {},
     "nuid": "21827fcd-b1fa-44bd-a62d-5d453fc32e21",
     "showTitle": false,
     "title": ""
    }
   },
   "outputs": [
    {
     "output_type": "stream",
     "name": "stdout",
     "output_type": "stream",
     "text": [
      "+----------+----+------+------+---+------+----+---------+--------------+-----------+----------+\n|total_bill| tip|   sex|smoker|day|  time|size|sex_index|smoker_indexed|day_indexed|time_index|\n+----------+----+------+------+---+------+----+---------+--------------+-----------+----------+\n|     16.99|1.01|Female|    No|Sun|Dinner|   2|      1.0|           0.0|        1.0|       0.0|\n|     10.34|1.66|  Male|    No|Sun|Dinner|   3|      0.0|           0.0|        1.0|       0.0|\n|     21.01| 3.5|  Male|    No|Sun|Dinner|   3|      0.0|           0.0|        1.0|       0.0|\n|     23.68|3.31|  Male|    No|Sun|Dinner|   2|      0.0|           0.0|        1.0|       0.0|\n|     24.59|3.61|Female|    No|Sun|Dinner|   4|      1.0|           0.0|        1.0|       0.0|\n|     25.29|4.71|  Male|    No|Sun|Dinner|   4|      0.0|           0.0|        1.0|       0.0|\n|      8.77| 2.0|  Male|    No|Sun|Dinner|   2|      0.0|           0.0|        1.0|       0.0|\n|     26.88|3.12|  Male|    No|Sun|Dinner|   4|      0.0|           0.0|        1.0|       0.0|\n|     15.04|1.96|  Male|    No|Sun|Dinner|   2|      0.0|           0.0|        1.0|       0.0|\n|     14.78|3.23|  Male|    No|Sun|Dinner|   2|      0.0|           0.0|        1.0|       0.0|\n|     10.27|1.71|  Male|    No|Sun|Dinner|   2|      0.0|           0.0|        1.0|       0.0|\n|     35.26| 5.0|Female|    No|Sun|Dinner|   4|      1.0|           0.0|        1.0|       0.0|\n|     15.42|1.57|  Male|    No|Sun|Dinner|   2|      0.0|           0.0|        1.0|       0.0|\n|     18.43| 3.0|  Male|    No|Sun|Dinner|   4|      0.0|           0.0|        1.0|       0.0|\n|     14.83|3.02|Female|    No|Sun|Dinner|   2|      1.0|           0.0|        1.0|       0.0|\n|     21.58|3.92|  Male|    No|Sun|Dinner|   2|      0.0|           0.0|        1.0|       0.0|\n|     10.33|1.67|Female|    No|Sun|Dinner|   3|      1.0|           0.0|        1.0|       0.0|\n|     16.29|3.71|  Male|    No|Sun|Dinner|   3|      0.0|           0.0|        1.0|       0.0|\n|     16.97| 3.5|Female|    No|Sun|Dinner|   3|      1.0|           0.0|        1.0|       0.0|\n|     20.65|3.35|  Male|    No|Sat|Dinner|   3|      0.0|           0.0|        0.0|       0.0|\n+----------+----+------+------+---+------+----+---------+--------------+-----------+----------+\nonly showing top 20 rows\n\n"
     ]
    }
   ],
   "source": [
    "\n",
    "indexer=StringIndexer(inputCols=[\"smoker\",\"day\",\"time\"],outputCols=[\"smoker_indexed\",\"day_indexed\",\n",
    "                                                                  \"time_index\"])\n",
    "df_r=indexer.fit(df_r).transform(df_r)\n",
    "df_r.show()"
   ]
  },
  {
   "cell_type": "code",
   "execution_count": 0,
   "metadata": {
    "application/vnd.databricks.v1+cell": {
     "cellMetadata": {
      "byteLimit": 2048000,
      "rowLimit": 10000
     },
     "inputWidgets": {},
     "nuid": "6e390494-da6d-47e7-aae5-a7803b4a0b08",
     "showTitle": false,
     "title": ""
    }
   },
   "outputs": [],
   "source": [
    "\n",
    "from pyspark.ml.feature import VectorAssembler"
   ]
  },
  {
   "cell_type": "code",
   "execution_count": 0,
   "metadata": {
    "application/vnd.databricks.v1+cell": {
     "cellMetadata": {
      "byteLimit": 2048000,
      "rowLimit": 10000
     },
     "inputWidgets": {},
     "nuid": "df580ef2-d0f8-4358-84df-4f945cd02015",
     "showTitle": false,
     "title": ""
    }
   },
   "outputs": [],
   "source": [
    "feature_assembler= VectorAssembler(inputCols=[\"tip\",\"size\",\"smoker_indexed\",\"day_indexed\",\"time_index\"],outputCol=\"Independent_feature\")\n",
    "df = feature_assembler.transform(df_r)"
   ]
  },
  {
   "cell_type": "code",
   "execution_count": 0,
   "metadata": {
    "application/vnd.databricks.v1+cell": {
     "cellMetadata": {
      "byteLimit": 2048000,
      "rowLimit": 10000
     },
     "inputWidgets": {},
     "nuid": "8c067696-717f-4259-93c9-49e63f312d96",
     "showTitle": false,
     "title": ""
    }
   },
   "outputs": [
    {
     "output_type": "stream",
     "name": "stdout",
     "output_type": "stream",
     "text": [
      "+----------+----+------+------+---+------+----+---------+--------------+-----------+----------+--------------------+\n|total_bill| tip|   sex|smoker|day|  time|size|sex_index|smoker_indexed|day_indexed|time_index| Independent_feature|\n+----------+----+------+------+---+------+----+---------+--------------+-----------+----------+--------------------+\n|     16.99|1.01|Female|    No|Sun|Dinner|   2|      1.0|           0.0|        1.0|       0.0|[1.01,2.0,0.0,1.0...|\n|     10.34|1.66|  Male|    No|Sun|Dinner|   3|      0.0|           0.0|        1.0|       0.0|[1.66,3.0,0.0,1.0...|\n|     21.01| 3.5|  Male|    No|Sun|Dinner|   3|      0.0|           0.0|        1.0|       0.0|[3.5,3.0,0.0,1.0,...|\n|     23.68|3.31|  Male|    No|Sun|Dinner|   2|      0.0|           0.0|        1.0|       0.0|[3.31,2.0,0.0,1.0...|\n|     24.59|3.61|Female|    No|Sun|Dinner|   4|      1.0|           0.0|        1.0|       0.0|[3.61,4.0,0.0,1.0...|\n|     25.29|4.71|  Male|    No|Sun|Dinner|   4|      0.0|           0.0|        1.0|       0.0|[4.71,4.0,0.0,1.0...|\n|      8.77| 2.0|  Male|    No|Sun|Dinner|   2|      0.0|           0.0|        1.0|       0.0|[2.0,2.0,0.0,1.0,...|\n|     26.88|3.12|  Male|    No|Sun|Dinner|   4|      0.0|           0.0|        1.0|       0.0|[3.12,4.0,0.0,1.0...|\n|     15.04|1.96|  Male|    No|Sun|Dinner|   2|      0.0|           0.0|        1.0|       0.0|[1.96,2.0,0.0,1.0...|\n|     14.78|3.23|  Male|    No|Sun|Dinner|   2|      0.0|           0.0|        1.0|       0.0|[3.23,2.0,0.0,1.0...|\n|     10.27|1.71|  Male|    No|Sun|Dinner|   2|      0.0|           0.0|        1.0|       0.0|[1.71,2.0,0.0,1.0...|\n|     35.26| 5.0|Female|    No|Sun|Dinner|   4|      1.0|           0.0|        1.0|       0.0|[5.0,4.0,0.0,1.0,...|\n|     15.42|1.57|  Male|    No|Sun|Dinner|   2|      0.0|           0.0|        1.0|       0.0|[1.57,2.0,0.0,1.0...|\n|     18.43| 3.0|  Male|    No|Sun|Dinner|   4|      0.0|           0.0|        1.0|       0.0|[3.0,4.0,0.0,1.0,...|\n|     14.83|3.02|Female|    No|Sun|Dinner|   2|      1.0|           0.0|        1.0|       0.0|[3.02,2.0,0.0,1.0...|\n|     21.58|3.92|  Male|    No|Sun|Dinner|   2|      0.0|           0.0|        1.0|       0.0|[3.92,2.0,0.0,1.0...|\n|     10.33|1.67|Female|    No|Sun|Dinner|   3|      1.0|           0.0|        1.0|       0.0|[1.67,3.0,0.0,1.0...|\n|     16.29|3.71|  Male|    No|Sun|Dinner|   3|      0.0|           0.0|        1.0|       0.0|[3.71,3.0,0.0,1.0...|\n|     16.97| 3.5|Female|    No|Sun|Dinner|   3|      1.0|           0.0|        1.0|       0.0|[3.5,3.0,0.0,1.0,...|\n|     20.65|3.35|  Male|    No|Sat|Dinner|   3|      0.0|           0.0|        0.0|       0.0|(5,[0,1],[3.35,3.0])|\n+----------+----+------+------+---+------+----+---------+--------------+-----------+----------+--------------------+\nonly showing top 20 rows\n\n"
     ]
    }
   ],
   "source": [
    "df.show()"
   ]
  },
  {
   "cell_type": "code",
   "execution_count": 0,
   "metadata": {
    "application/vnd.databricks.v1+cell": {
     "cellMetadata": {
      "byteLimit": 2048000,
      "rowLimit": 10000
     },
     "inputWidgets": {},
     "nuid": "92efdf2d-b283-451f-abfd-b80aaa04b826",
     "showTitle": false,
     "title": ""
    }
   },
   "outputs": [],
   "source": [
    "final_data = df.select(\"Independent_feature\",\"total_bill\")"
   ]
  },
  {
   "cell_type": "code",
   "execution_count": 0,
   "metadata": {
    "application/vnd.databricks.v1+cell": {
     "cellMetadata": {
      "byteLimit": 2048000,
      "rowLimit": 10000
     },
     "inputWidgets": {},
     "nuid": "8b286640-97d3-4515-8e50-a23e97df6df6",
     "showTitle": false,
     "title": ""
    }
   },
   "outputs": [
    {
     "output_type": "stream",
     "name": "stdout",
     "output_type": "stream",
     "text": [
      "+--------------------+----------+\n| Independent_feature|total_bill|\n+--------------------+----------+\n|[1.01,2.0,0.0,1.0...|     16.99|\n|[1.66,3.0,0.0,1.0...|     10.34|\n|[3.5,3.0,0.0,1.0,...|     21.01|\n|[3.31,2.0,0.0,1.0...|     23.68|\n|[3.61,4.0,0.0,1.0...|     24.59|\n|[4.71,4.0,0.0,1.0...|     25.29|\n|[2.0,2.0,0.0,1.0,...|      8.77|\n|[3.12,4.0,0.0,1.0...|     26.88|\n|[1.96,2.0,0.0,1.0...|     15.04|\n|[3.23,2.0,0.0,1.0...|     14.78|\n|[1.71,2.0,0.0,1.0...|     10.27|\n|[5.0,4.0,0.0,1.0,...|     35.26|\n|[1.57,2.0,0.0,1.0...|     15.42|\n|[3.0,4.0,0.0,1.0,...|     18.43|\n|[3.02,2.0,0.0,1.0...|     14.83|\n|[3.92,2.0,0.0,1.0...|     21.58|\n|[1.67,3.0,0.0,1.0...|     10.33|\n|[3.71,3.0,0.0,1.0...|     16.29|\n|[3.5,3.0,0.0,1.0,...|     16.97|\n|(5,[0,1],[3.35,3.0])|     20.65|\n+--------------------+----------+\nonly showing top 20 rows\n\n"
     ]
    }
   ],
   "source": [
    "final_data.show()"
   ]
  },
  {
   "cell_type": "code",
   "execution_count": 0,
   "metadata": {
    "application/vnd.databricks.v1+cell": {
     "cellMetadata": {
      "byteLimit": 2048000,
      "rowLimit": 10000
     },
     "inputWidgets": {},
     "nuid": "3a3a728c-bd13-4f87-8ca3-f6123b7592ff",
     "showTitle": false,
     "title": ""
    }
   },
   "outputs": [],
   "source": [
    "from pyspark.ml.regression import LinearRegression"
   ]
  },
  {
   "cell_type": "code",
   "execution_count": 0,
   "metadata": {
    "application/vnd.databricks.v1+cell": {
     "cellMetadata": {
      "byteLimit": 2048000,
      "rowLimit": 10000
     },
     "inputWidgets": {},
     "nuid": "8cc6d35d-6c44-4947-be16-5fc480dab8a6",
     "showTitle": false,
     "title": ""
    }
   },
   "outputs": [],
   "source": [
    "train_data,test_data = final_data.randomSplit([0.75,0.25])\n",
    "regessor = LinearRegression(featuresCol=\"Independent_feature\",labelCol=\"total_bill\")\n",
    "regessor = regessor.fit(train_data)"
   ]
  },
  {
   "cell_type": "code",
   "execution_count": 0,
   "metadata": {
    "application/vnd.databricks.v1+cell": {
     "cellMetadata": {
      "byteLimit": 2048000,
      "rowLimit": 10000
     },
     "inputWidgets": {},
     "nuid": "309f9270-088c-4979-8ac1-f885cd1c5a5e",
     "showTitle": false,
     "title": ""
    }
   },
   "outputs": [
    {
     "output_type": "stream",
     "name": "stdout",
     "output_type": "stream",
     "text": [
      "Out[17]: DenseVector([2.8433, 3.493, 3.294, -0.21, -1.7239])"
     ]
    }
   ],
   "source": [
    "\n",
    "regessor.coefficients\n",
    "     "
   ]
  },
  {
   "cell_type": "code",
   "execution_count": 0,
   "metadata": {
    "application/vnd.databricks.v1+cell": {
     "cellMetadata": {
      "byteLimit": 2048000,
      "rowLimit": 10000
     },
     "inputWidgets": {},
     "nuid": "ab65af21-988f-444e-bf3a-7f9c22c10b71",
     "showTitle": false,
     "title": ""
    }
   },
   "outputs": [
    {
     "output_type": "stream",
     "name": "stdout",
     "output_type": "stream",
     "text": [
      "Out[18]: 1.7678382774718429"
     ]
    }
   ],
   "source": [
    "\n",
    "regessor.intercept"
   ]
  },
  {
   "cell_type": "code",
   "execution_count": 0,
   "metadata": {
    "application/vnd.databricks.v1+cell": {
     "cellMetadata": {
      "byteLimit": 2048000,
      "rowLimit": 10000
     },
     "inputWidgets": {},
     "nuid": "c627de0a-f92a-4074-b7b9-1051eca47cda",
     "showTitle": false,
     "title": ""
    }
   },
   "outputs": [],
   "source": [
    "\n",
    "### Predictions\n",
    "pred_results=regessor.evaluate(test_data)"
   ]
  },
  {
   "cell_type": "code",
   "execution_count": 0,
   "metadata": {
    "application/vnd.databricks.v1+cell": {
     "cellMetadata": {
      "byteLimit": 2048000,
      "rowLimit": 10000
     },
     "inputWidgets": {},
     "nuid": "4205d9c7-40b1-4864-b45d-75ae2e5f40ee",
     "showTitle": false,
     "title": ""
    }
   },
   "outputs": [
    {
     "output_type": "stream",
     "name": "stdout",
     "output_type": "stream",
     "text": [
      "+--------------------+----------+------------------+\n| Independent_feature|total_bill|        prediction|\n+--------------------+----------+------------------+\n| (5,[0,1],[1.0,1.0])|      7.25|  8.10418176027571|\n| (5,[0,1],[1.5,2.0])|     26.41|13.018876324027902|\n|(5,[0,1],[2.01,2.0])|     20.23| 14.46895822146061|\n|(5,[0,1],[2.47,2.0])|     16.45|15.776875226988153|\n| (5,[0,1],[3.0,2.0])|      14.0|17.283823081182927|\n|(5,[0,1],[4.08,2.0])|     17.92|20.354584746334545|\n| (5,[0,1],[5.0,3.0])|     31.27|26.463464402090143|\n|(5,[0,1],[6.73,4.0])|     48.27| 34.87541530670946|\n|[1.44,2.0,0.0,2.0...|      7.56|10.704490068420911|\n|[1.44,2.0,1.0,0.0...|      7.74|16.142249152282485|\n|[1.5,2.0,0.0,2.0,...|     19.08|10.875087938707113|\n|[1.5,2.0,0.0,3.0,...|     12.46| 12.38899582140215|\n|[1.63,2.0,0.0,2.0...|     11.87|11.244716657660547|\n|[1.66,3.0,0.0,1.0...|     10.34| 16.75688945528304|\n|[1.73,2.0,0.0,2.0...|      9.78|11.529046441470882|\n|[1.8,2.0,0.0,2.0,...|     12.43|11.728077290138117|\n|[2.0,2.0,0.0,2.0,...|     15.95|12.296736857758788|\n|[2.0,2.0,1.0,0.0,...|     10.63| 17.73449594162036|\n|[2.0,2.0,1.0,0.0,...|     13.81| 17.73449594162036|\n|[2.0,2.0,1.0,1.0,...|     14.48|17.524535774078444|\n+--------------------+----------+------------------+\nonly showing top 20 rows\n\n"
     ]
    }
   ],
   "source": [
    "pred_results.predictions.show()"
   ]
  },
  {
   "cell_type": "code",
   "execution_count": 0,
   "metadata": {
    "application/vnd.databricks.v1+cell": {
     "cellMetadata": {
      "byteLimit": 2048000,
      "rowLimit": 10000
     },
     "inputWidgets": {},
     "nuid": "c27d6d03-cbfd-403a-a4c5-b22ff078a60f",
     "showTitle": false,
     "title": ""
    }
   },
   "outputs": [
    {
     "output_type": "stream",
     "name": "stdout",
     "output_type": "stream",
     "text": [
      "Out[22]: (0.6759533828526461, 4.309247255158774, 30.76832332038285)"
     ]
    }
   ],
   "source": [
    "\n",
    "### PErformance Metrics\n",
    "pred_results.r2,pred_results.meanAbsoluteError,pred_results.meanSquaredError"
   ]
  },
  {
   "cell_type": "code",
   "execution_count": 0,
   "metadata": {
    "application/vnd.databricks.v1+cell": {
     "cellMetadata": {},
     "inputWidgets": {},
     "nuid": "9b3505ea-e061-49c8-b4a9-a4318a7a540b",
     "showTitle": false,
     "title": ""
    }
   },
   "outputs": [],
   "source": []
  }
 ],
 "metadata": {
  "application/vnd.databricks.v1+notebook": {
   "dashboards": [],
   "environmentMetadata": null,
   "language": "python",
   "notebookMetadata": {
    "pythonIndentUnit": 4
   },
   "notebookName": "2024-09-20 - DBFS Example",
   "widgets": {}
  }
 },
 "nbformat": 4,
 "nbformat_minor": 0
}
